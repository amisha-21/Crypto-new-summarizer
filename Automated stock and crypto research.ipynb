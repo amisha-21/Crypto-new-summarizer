{
  "nbformat": 4,
  "nbformat_minor": 0,
  "metadata": {
    "colab": {
      "name": "Untitled1.ipynb",
      "provenance": [],
      "collapsed_sections": []
    },
    "kernelspec": {
      "name": "python3",
      "display_name": "Python 3"
    },
    "language_info": {
      "name": "python"
    },
    "widgets": {
      "application/vnd.jupyter.widget-state+json": {
        "49a10eedf61740159d5dd79fe4337f64": {
          "model_module": "@jupyter-widgets/controls",
          "model_name": "HBoxModel",
          "state": {
            "_view_name": "HBoxView",
            "_dom_classes": [],
            "_model_name": "HBoxModel",
            "_view_module": "@jupyter-widgets/controls",
            "_model_module_version": "1.5.0",
            "_view_count": null,
            "_view_module_version": "1.5.0",
            "box_style": "",
            "layout": "IPY_MODEL_3c6916b83cc847a1b4ccfdaa0fcddf80",
            "_model_module": "@jupyter-widgets/controls",
            "children": [
              "IPY_MODEL_83e7aea51621481986f594a262df26f5",
              "IPY_MODEL_d3798cd752dd4d58930fc209eaa9ae9d"
            ]
          }
        },
        "3c6916b83cc847a1b4ccfdaa0fcddf80": {
          "model_module": "@jupyter-widgets/base",
          "model_name": "LayoutModel",
          "state": {
            "_view_name": "LayoutView",
            "grid_template_rows": null,
            "right": null,
            "justify_content": null,
            "_view_module": "@jupyter-widgets/base",
            "overflow": null,
            "_model_module_version": "1.2.0",
            "_view_count": null,
            "flex_flow": null,
            "width": null,
            "min_width": null,
            "border": null,
            "align_items": null,
            "bottom": null,
            "_model_module": "@jupyter-widgets/base",
            "top": null,
            "grid_column": null,
            "overflow_y": null,
            "overflow_x": null,
            "grid_auto_flow": null,
            "grid_area": null,
            "grid_template_columns": null,
            "flex": null,
            "_model_name": "LayoutModel",
            "justify_items": null,
            "grid_row": null,
            "max_height": null,
            "align_content": null,
            "visibility": null,
            "align_self": null,
            "height": null,
            "min_height": null,
            "padding": null,
            "grid_auto_rows": null,
            "grid_gap": null,
            "max_width": null,
            "order": null,
            "_view_module_version": "1.2.0",
            "grid_template_areas": null,
            "object_position": null,
            "object_fit": null,
            "grid_auto_columns": null,
            "margin": null,
            "display": null,
            "left": null
          }
        },
        "83e7aea51621481986f594a262df26f5": {
          "model_module": "@jupyter-widgets/controls",
          "model_name": "FloatProgressModel",
          "state": {
            "_view_name": "ProgressView",
            "style": "IPY_MODEL_be78f5efccaf4b22a3089c104b8b2a62",
            "_dom_classes": [],
            "description": "Downloading: 100%",
            "_model_name": "FloatProgressModel",
            "bar_style": "success",
            "max": 1912529,
            "_view_module": "@jupyter-widgets/controls",
            "_model_module_version": "1.5.0",
            "value": 1912529,
            "_view_count": null,
            "_view_module_version": "1.5.0",
            "orientation": "horizontal",
            "min": 0,
            "description_tooltip": null,
            "_model_module": "@jupyter-widgets/controls",
            "layout": "IPY_MODEL_7be7ab1b66e54bacacb08055a90af8d2"
          }
        },
        "d3798cd752dd4d58930fc209eaa9ae9d": {
          "model_module": "@jupyter-widgets/controls",
          "model_name": "HTMLModel",
          "state": {
            "_view_name": "HTMLView",
            "style": "IPY_MODEL_45b464b0d38a437f8da4cfb5dfd5534e",
            "_dom_classes": [],
            "description": "",
            "_model_name": "HTMLModel",
            "placeholder": "​",
            "_view_module": "@jupyter-widgets/controls",
            "_model_module_version": "1.5.0",
            "value": " 1.91M/1.91M [00:11&lt;00:00, 162kB/s]",
            "_view_count": null,
            "_view_module_version": "1.5.0",
            "description_tooltip": null,
            "_model_module": "@jupyter-widgets/controls",
            "layout": "IPY_MODEL_221ebd6d842d45a488c64aa09715fbd6"
          }
        },
        "be78f5efccaf4b22a3089c104b8b2a62": {
          "model_module": "@jupyter-widgets/controls",
          "model_name": "ProgressStyleModel",
          "state": {
            "_view_name": "StyleView",
            "_model_name": "ProgressStyleModel",
            "description_width": "initial",
            "_view_module": "@jupyter-widgets/base",
            "_model_module_version": "1.5.0",
            "_view_count": null,
            "_view_module_version": "1.2.0",
            "bar_color": null,
            "_model_module": "@jupyter-widgets/controls"
          }
        },
        "7be7ab1b66e54bacacb08055a90af8d2": {
          "model_module": "@jupyter-widgets/base",
          "model_name": "LayoutModel",
          "state": {
            "_view_name": "LayoutView",
            "grid_template_rows": null,
            "right": null,
            "justify_content": null,
            "_view_module": "@jupyter-widgets/base",
            "overflow": null,
            "_model_module_version": "1.2.0",
            "_view_count": null,
            "flex_flow": null,
            "width": null,
            "min_width": null,
            "border": null,
            "align_items": null,
            "bottom": null,
            "_model_module": "@jupyter-widgets/base",
            "top": null,
            "grid_column": null,
            "overflow_y": null,
            "overflow_x": null,
            "grid_auto_flow": null,
            "grid_area": null,
            "grid_template_columns": null,
            "flex": null,
            "_model_name": "LayoutModel",
            "justify_items": null,
            "grid_row": null,
            "max_height": null,
            "align_content": null,
            "visibility": null,
            "align_self": null,
            "height": null,
            "min_height": null,
            "padding": null,
            "grid_auto_rows": null,
            "grid_gap": null,
            "max_width": null,
            "order": null,
            "_view_module_version": "1.2.0",
            "grid_template_areas": null,
            "object_position": null,
            "object_fit": null,
            "grid_auto_columns": null,
            "margin": null,
            "display": null,
            "left": null
          }
        },
        "45b464b0d38a437f8da4cfb5dfd5534e": {
          "model_module": "@jupyter-widgets/controls",
          "model_name": "DescriptionStyleModel",
          "state": {
            "_view_name": "StyleView",
            "_model_name": "DescriptionStyleModel",
            "description_width": "",
            "_view_module": "@jupyter-widgets/base",
            "_model_module_version": "1.5.0",
            "_view_count": null,
            "_view_module_version": "1.2.0",
            "_model_module": "@jupyter-widgets/controls"
          }
        },
        "221ebd6d842d45a488c64aa09715fbd6": {
          "model_module": "@jupyter-widgets/base",
          "model_name": "LayoutModel",
          "state": {
            "_view_name": "LayoutView",
            "grid_template_rows": null,
            "right": null,
            "justify_content": null,
            "_view_module": "@jupyter-widgets/base",
            "overflow": null,
            "_model_module_version": "1.2.0",
            "_view_count": null,
            "flex_flow": null,
            "width": null,
            "min_width": null,
            "border": null,
            "align_items": null,
            "bottom": null,
            "_model_module": "@jupyter-widgets/base",
            "top": null,
            "grid_column": null,
            "overflow_y": null,
            "overflow_x": null,
            "grid_auto_flow": null,
            "grid_area": null,
            "grid_template_columns": null,
            "flex": null,
            "_model_name": "LayoutModel",
            "justify_items": null,
            "grid_row": null,
            "max_height": null,
            "align_content": null,
            "visibility": null,
            "align_self": null,
            "height": null,
            "min_height": null,
            "padding": null,
            "grid_auto_rows": null,
            "grid_gap": null,
            "max_width": null,
            "order": null,
            "_view_module_version": "1.2.0",
            "grid_template_areas": null,
            "object_position": null,
            "object_fit": null,
            "grid_auto_columns": null,
            "margin": null,
            "display": null,
            "left": null
          }
        },
        "0a88903055b84816823dc39d86d41473": {
          "model_module": "@jupyter-widgets/controls",
          "model_name": "HBoxModel",
          "state": {
            "_view_name": "HBoxView",
            "_dom_classes": [],
            "_model_name": "HBoxModel",
            "_view_module": "@jupyter-widgets/controls",
            "_model_module_version": "1.5.0",
            "_view_count": null,
            "_view_module_version": "1.5.0",
            "box_style": "",
            "layout": "IPY_MODEL_6d2f2b7529f24817bd1dfcc540345d7e",
            "_model_module": "@jupyter-widgets/controls",
            "children": [
              "IPY_MODEL_fb53bd9fadf94c3b927ef024d88210d1",
              "IPY_MODEL_5cf71fcac01248e2b91dc4f4ca448c2d"
            ]
          }
        },
        "6d2f2b7529f24817bd1dfcc540345d7e": {
          "model_module": "@jupyter-widgets/base",
          "model_name": "LayoutModel",
          "state": {
            "_view_name": "LayoutView",
            "grid_template_rows": null,
            "right": null,
            "justify_content": null,
            "_view_module": "@jupyter-widgets/base",
            "overflow": null,
            "_model_module_version": "1.2.0",
            "_view_count": null,
            "flex_flow": null,
            "width": null,
            "min_width": null,
            "border": null,
            "align_items": null,
            "bottom": null,
            "_model_module": "@jupyter-widgets/base",
            "top": null,
            "grid_column": null,
            "overflow_y": null,
            "overflow_x": null,
            "grid_auto_flow": null,
            "grid_area": null,
            "grid_template_columns": null,
            "flex": null,
            "_model_name": "LayoutModel",
            "justify_items": null,
            "grid_row": null,
            "max_height": null,
            "align_content": null,
            "visibility": null,
            "align_self": null,
            "height": null,
            "min_height": null,
            "padding": null,
            "grid_auto_rows": null,
            "grid_gap": null,
            "max_width": null,
            "order": null,
            "_view_module_version": "1.2.0",
            "grid_template_areas": null,
            "object_position": null,
            "object_fit": null,
            "grid_auto_columns": null,
            "margin": null,
            "display": null,
            "left": null
          }
        },
        "fb53bd9fadf94c3b927ef024d88210d1": {
          "model_module": "@jupyter-widgets/controls",
          "model_name": "FloatProgressModel",
          "state": {
            "_view_name": "ProgressView",
            "style": "IPY_MODEL_5659fcee3a634e8cbfc1419c675454b4",
            "_dom_classes": [],
            "description": "Downloading: 100%",
            "_model_name": "FloatProgressModel",
            "bar_style": "success",
            "max": 1341,
            "_view_module": "@jupyter-widgets/controls",
            "_model_module_version": "1.5.0",
            "value": 1341,
            "_view_count": null,
            "_view_module_version": "1.5.0",
            "orientation": "horizontal",
            "min": 0,
            "description_tooltip": null,
            "_model_module": "@jupyter-widgets/controls",
            "layout": "IPY_MODEL_ac9311088f7349848c26ff25200bcba1"
          }
        },
        "5cf71fcac01248e2b91dc4f4ca448c2d": {
          "model_module": "@jupyter-widgets/controls",
          "model_name": "HTMLModel",
          "state": {
            "_view_name": "HTMLView",
            "style": "IPY_MODEL_2c86f3a657e84e3dbeb6ac782a53a047",
            "_dom_classes": [],
            "description": "",
            "_model_name": "HTMLModel",
            "placeholder": "​",
            "_view_module": "@jupyter-widgets/controls",
            "_model_module_version": "1.5.0",
            "value": " 1.34k/1.34k [00:11&lt;00:00, 116B/s]",
            "_view_count": null,
            "_view_module_version": "1.5.0",
            "description_tooltip": null,
            "_model_module": "@jupyter-widgets/controls",
            "layout": "IPY_MODEL_096af72666cc4959b3143ffc7df40a94"
          }
        },
        "5659fcee3a634e8cbfc1419c675454b4": {
          "model_module": "@jupyter-widgets/controls",
          "model_name": "ProgressStyleModel",
          "state": {
            "_view_name": "StyleView",
            "_model_name": "ProgressStyleModel",
            "description_width": "initial",
            "_view_module": "@jupyter-widgets/base",
            "_model_module_version": "1.5.0",
            "_view_count": null,
            "_view_module_version": "1.2.0",
            "bar_color": null,
            "_model_module": "@jupyter-widgets/controls"
          }
        },
        "ac9311088f7349848c26ff25200bcba1": {
          "model_module": "@jupyter-widgets/base",
          "model_name": "LayoutModel",
          "state": {
            "_view_name": "LayoutView",
            "grid_template_rows": null,
            "right": null,
            "justify_content": null,
            "_view_module": "@jupyter-widgets/base",
            "overflow": null,
            "_model_module_version": "1.2.0",
            "_view_count": null,
            "flex_flow": null,
            "width": null,
            "min_width": null,
            "border": null,
            "align_items": null,
            "bottom": null,
            "_model_module": "@jupyter-widgets/base",
            "top": null,
            "grid_column": null,
            "overflow_y": null,
            "overflow_x": null,
            "grid_auto_flow": null,
            "grid_area": null,
            "grid_template_columns": null,
            "flex": null,
            "_model_name": "LayoutModel",
            "justify_items": null,
            "grid_row": null,
            "max_height": null,
            "align_content": null,
            "visibility": null,
            "align_self": null,
            "height": null,
            "min_height": null,
            "padding": null,
            "grid_auto_rows": null,
            "grid_gap": null,
            "max_width": null,
            "order": null,
            "_view_module_version": "1.2.0",
            "grid_template_areas": null,
            "object_position": null,
            "object_fit": null,
            "grid_auto_columns": null,
            "margin": null,
            "display": null,
            "left": null
          }
        },
        "2c86f3a657e84e3dbeb6ac782a53a047": {
          "model_module": "@jupyter-widgets/controls",
          "model_name": "DescriptionStyleModel",
          "state": {
            "_view_name": "StyleView",
            "_model_name": "DescriptionStyleModel",
            "description_width": "",
            "_view_module": "@jupyter-widgets/base",
            "_model_module_version": "1.5.0",
            "_view_count": null,
            "_view_module_version": "1.2.0",
            "_model_module": "@jupyter-widgets/controls"
          }
        },
        "096af72666cc4959b3143ffc7df40a94": {
          "model_module": "@jupyter-widgets/base",
          "model_name": "LayoutModel",
          "state": {
            "_view_name": "LayoutView",
            "grid_template_rows": null,
            "right": null,
            "justify_content": null,
            "_view_module": "@jupyter-widgets/base",
            "overflow": null,
            "_model_module_version": "1.2.0",
            "_view_count": null,
            "flex_flow": null,
            "width": null,
            "min_width": null,
            "border": null,
            "align_items": null,
            "bottom": null,
            "_model_module": "@jupyter-widgets/base",
            "top": null,
            "grid_column": null,
            "overflow_y": null,
            "overflow_x": null,
            "grid_auto_flow": null,
            "grid_area": null,
            "grid_template_columns": null,
            "flex": null,
            "_model_name": "LayoutModel",
            "justify_items": null,
            "grid_row": null,
            "max_height": null,
            "align_content": null,
            "visibility": null,
            "align_self": null,
            "height": null,
            "min_height": null,
            "padding": null,
            "grid_auto_rows": null,
            "grid_gap": null,
            "max_width": null,
            "order": null,
            "_view_module_version": "1.2.0",
            "grid_template_areas": null,
            "object_position": null,
            "object_fit": null,
            "grid_auto_columns": null,
            "margin": null,
            "display": null,
            "left": null
          }
        },
        "354f52a3fd5a47ddb018f28314d570c7": {
          "model_module": "@jupyter-widgets/controls",
          "model_name": "HBoxModel",
          "state": {
            "_view_name": "HBoxView",
            "_dom_classes": [],
            "_model_name": "HBoxModel",
            "_view_module": "@jupyter-widgets/controls",
            "_model_module_version": "1.5.0",
            "_view_count": null,
            "_view_module_version": "1.5.0",
            "box_style": "",
            "layout": "IPY_MODEL_a74d7368c17a4405a35643c593325019",
            "_model_module": "@jupyter-widgets/controls",
            "children": [
              "IPY_MODEL_4e3ad29ff9124716a94dc1197145acf0",
              "IPY_MODEL_f6fac2d2f66f41ecaafce3fdc376cf1b"
            ]
          }
        },
        "a74d7368c17a4405a35643c593325019": {
          "model_module": "@jupyter-widgets/base",
          "model_name": "LayoutModel",
          "state": {
            "_view_name": "LayoutView",
            "grid_template_rows": null,
            "right": null,
            "justify_content": null,
            "_view_module": "@jupyter-widgets/base",
            "overflow": null,
            "_model_module_version": "1.2.0",
            "_view_count": null,
            "flex_flow": null,
            "width": null,
            "min_width": null,
            "border": null,
            "align_items": null,
            "bottom": null,
            "_model_module": "@jupyter-widgets/base",
            "top": null,
            "grid_column": null,
            "overflow_y": null,
            "overflow_x": null,
            "grid_auto_flow": null,
            "grid_area": null,
            "grid_template_columns": null,
            "flex": null,
            "_model_name": "LayoutModel",
            "justify_items": null,
            "grid_row": null,
            "max_height": null,
            "align_content": null,
            "visibility": null,
            "align_self": null,
            "height": null,
            "min_height": null,
            "padding": null,
            "grid_auto_rows": null,
            "grid_gap": null,
            "max_width": null,
            "order": null,
            "_view_module_version": "1.2.0",
            "grid_template_areas": null,
            "object_position": null,
            "object_fit": null,
            "grid_auto_columns": null,
            "margin": null,
            "display": null,
            "left": null
          }
        },
        "4e3ad29ff9124716a94dc1197145acf0": {
          "model_module": "@jupyter-widgets/controls",
          "model_name": "FloatProgressModel",
          "state": {
            "_view_name": "ProgressView",
            "style": "IPY_MODEL_bd6914e5c91c4be684801ca4b2dec557",
            "_dom_classes": [],
            "description": "Downloading: 100%",
            "_model_name": "FloatProgressModel",
            "bar_style": "success",
            "max": 1436,
            "_view_module": "@jupyter-widgets/controls",
            "_model_module_version": "1.5.0",
            "value": 1436,
            "_view_count": null,
            "_view_module_version": "1.5.0",
            "orientation": "horizontal",
            "min": 0,
            "description_tooltip": null,
            "_model_module": "@jupyter-widgets/controls",
            "layout": "IPY_MODEL_adb6f275065b4c24a741a65297913e30"
          }
        },
        "f6fac2d2f66f41ecaafce3fdc376cf1b": {
          "model_module": "@jupyter-widgets/controls",
          "model_name": "HTMLModel",
          "state": {
            "_view_name": "HTMLView",
            "style": "IPY_MODEL_f0dae7ec31664931917a3e688b846014",
            "_dom_classes": [],
            "description": "",
            "_model_name": "HTMLModel",
            "placeholder": "​",
            "_view_module": "@jupyter-widgets/controls",
            "_model_module_version": "1.5.0",
            "value": " 1.44k/1.44k [00:02&lt;00:00, 543B/s]",
            "_view_count": null,
            "_view_module_version": "1.5.0",
            "description_tooltip": null,
            "_model_module": "@jupyter-widgets/controls",
            "layout": "IPY_MODEL_44b3d9da35684a47b53b2c49dabca152"
          }
        },
        "bd6914e5c91c4be684801ca4b2dec557": {
          "model_module": "@jupyter-widgets/controls",
          "model_name": "ProgressStyleModel",
          "state": {
            "_view_name": "StyleView",
            "_model_name": "ProgressStyleModel",
            "description_width": "initial",
            "_view_module": "@jupyter-widgets/base",
            "_model_module_version": "1.5.0",
            "_view_count": null,
            "_view_module_version": "1.2.0",
            "bar_color": null,
            "_model_module": "@jupyter-widgets/controls"
          }
        },
        "adb6f275065b4c24a741a65297913e30": {
          "model_module": "@jupyter-widgets/base",
          "model_name": "LayoutModel",
          "state": {
            "_view_name": "LayoutView",
            "grid_template_rows": null,
            "right": null,
            "justify_content": null,
            "_view_module": "@jupyter-widgets/base",
            "overflow": null,
            "_model_module_version": "1.2.0",
            "_view_count": null,
            "flex_flow": null,
            "width": null,
            "min_width": null,
            "border": null,
            "align_items": null,
            "bottom": null,
            "_model_module": "@jupyter-widgets/base",
            "top": null,
            "grid_column": null,
            "overflow_y": null,
            "overflow_x": null,
            "grid_auto_flow": null,
            "grid_area": null,
            "grid_template_columns": null,
            "flex": null,
            "_model_name": "LayoutModel",
            "justify_items": null,
            "grid_row": null,
            "max_height": null,
            "align_content": null,
            "visibility": null,
            "align_self": null,
            "height": null,
            "min_height": null,
            "padding": null,
            "grid_auto_rows": null,
            "grid_gap": null,
            "max_width": null,
            "order": null,
            "_view_module_version": "1.2.0",
            "grid_template_areas": null,
            "object_position": null,
            "object_fit": null,
            "grid_auto_columns": null,
            "margin": null,
            "display": null,
            "left": null
          }
        },
        "f0dae7ec31664931917a3e688b846014": {
          "model_module": "@jupyter-widgets/controls",
          "model_name": "DescriptionStyleModel",
          "state": {
            "_view_name": "StyleView",
            "_model_name": "DescriptionStyleModel",
            "description_width": "",
            "_view_module": "@jupyter-widgets/base",
            "_model_module_version": "1.5.0",
            "_view_count": null,
            "_view_module_version": "1.2.0",
            "_model_module": "@jupyter-widgets/controls"
          }
        },
        "44b3d9da35684a47b53b2c49dabca152": {
          "model_module": "@jupyter-widgets/base",
          "model_name": "LayoutModel",
          "state": {
            "_view_name": "LayoutView",
            "grid_template_rows": null,
            "right": null,
            "justify_content": null,
            "_view_module": "@jupyter-widgets/base",
            "overflow": null,
            "_model_module_version": "1.2.0",
            "_view_count": null,
            "flex_flow": null,
            "width": null,
            "min_width": null,
            "border": null,
            "align_items": null,
            "bottom": null,
            "_model_module": "@jupyter-widgets/base",
            "top": null,
            "grid_column": null,
            "overflow_y": null,
            "overflow_x": null,
            "grid_auto_flow": null,
            "grid_area": null,
            "grid_template_columns": null,
            "flex": null,
            "_model_name": "LayoutModel",
            "justify_items": null,
            "grid_row": null,
            "max_height": null,
            "align_content": null,
            "visibility": null,
            "align_self": null,
            "height": null,
            "min_height": null,
            "padding": null,
            "grid_auto_rows": null,
            "grid_gap": null,
            "max_width": null,
            "order": null,
            "_view_module_version": "1.2.0",
            "grid_template_areas": null,
            "object_position": null,
            "object_fit": null,
            "grid_auto_columns": null,
            "margin": null,
            "display": null,
            "left": null
          }
        },
        "17539b8c6c524d3280b7b5465a3269c1": {
          "model_module": "@jupyter-widgets/controls",
          "model_name": "HBoxModel",
          "state": {
            "_view_name": "HBoxView",
            "_dom_classes": [],
            "_model_name": "HBoxModel",
            "_view_module": "@jupyter-widgets/controls",
            "_model_module_version": "1.5.0",
            "_view_count": null,
            "_view_module_version": "1.5.0",
            "box_style": "",
            "layout": "IPY_MODEL_9950b106215a42a68090937ef747cf9d",
            "_model_module": "@jupyter-widgets/controls",
            "children": [
              "IPY_MODEL_d537abf98bfb4bc2ab11358e1da2ca74",
              "IPY_MODEL_c011dcfe9eec4ca2b8e4c3c051fdda85"
            ]
          }
        },
        "9950b106215a42a68090937ef747cf9d": {
          "model_module": "@jupyter-widgets/base",
          "model_name": "LayoutModel",
          "state": {
            "_view_name": "LayoutView",
            "grid_template_rows": null,
            "right": null,
            "justify_content": null,
            "_view_module": "@jupyter-widgets/base",
            "overflow": null,
            "_model_module_version": "1.2.0",
            "_view_count": null,
            "flex_flow": null,
            "width": null,
            "min_width": null,
            "border": null,
            "align_items": null,
            "bottom": null,
            "_model_module": "@jupyter-widgets/base",
            "top": null,
            "grid_column": null,
            "overflow_y": null,
            "overflow_x": null,
            "grid_auto_flow": null,
            "grid_area": null,
            "grid_template_columns": null,
            "flex": null,
            "_model_name": "LayoutModel",
            "justify_items": null,
            "grid_row": null,
            "max_height": null,
            "align_content": null,
            "visibility": null,
            "align_self": null,
            "height": null,
            "min_height": null,
            "padding": null,
            "grid_auto_rows": null,
            "grid_gap": null,
            "max_width": null,
            "order": null,
            "_view_module_version": "1.2.0",
            "grid_template_areas": null,
            "object_position": null,
            "object_fit": null,
            "grid_auto_columns": null,
            "margin": null,
            "display": null,
            "left": null
          }
        },
        "d537abf98bfb4bc2ab11358e1da2ca74": {
          "model_module": "@jupyter-widgets/controls",
          "model_name": "FloatProgressModel",
          "state": {
            "_view_name": "ProgressView",
            "style": "IPY_MODEL_279336ad51ec48ed94ca6ca256ca7708",
            "_dom_classes": [],
            "description": "Downloading: 100%",
            "_model_name": "FloatProgressModel",
            "bar_style": "success",
            "max": 629,
            "_view_module": "@jupyter-widgets/controls",
            "_model_module_version": "1.5.0",
            "value": 629,
            "_view_count": null,
            "_view_module_version": "1.5.0",
            "orientation": "horizontal",
            "min": 0,
            "description_tooltip": null,
            "_model_module": "@jupyter-widgets/controls",
            "layout": "IPY_MODEL_4dc797a8fafd4ebfb687eadf5c789ef0"
          }
        },
        "c011dcfe9eec4ca2b8e4c3c051fdda85": {
          "model_module": "@jupyter-widgets/controls",
          "model_name": "HTMLModel",
          "state": {
            "_view_name": "HTMLView",
            "style": "IPY_MODEL_5a12d918689240f59a7e1702aa018920",
            "_dom_classes": [],
            "description": "",
            "_model_name": "HTMLModel",
            "placeholder": "​",
            "_view_module": "@jupyter-widgets/controls",
            "_model_module_version": "1.5.0",
            "value": " 629/629 [00:11&lt;00:00, 55.5B/s]",
            "_view_count": null,
            "_view_module_version": "1.5.0",
            "description_tooltip": null,
            "_model_module": "@jupyter-widgets/controls",
            "layout": "IPY_MODEL_70c84f43450c4e3bb53dacee82fa9da4"
          }
        },
        "279336ad51ec48ed94ca6ca256ca7708": {
          "model_module": "@jupyter-widgets/controls",
          "model_name": "ProgressStyleModel",
          "state": {
            "_view_name": "StyleView",
            "_model_name": "ProgressStyleModel",
            "description_width": "initial",
            "_view_module": "@jupyter-widgets/base",
            "_model_module_version": "1.5.0",
            "_view_count": null,
            "_view_module_version": "1.2.0",
            "bar_color": null,
            "_model_module": "@jupyter-widgets/controls"
          }
        },
        "4dc797a8fafd4ebfb687eadf5c789ef0": {
          "model_module": "@jupyter-widgets/base",
          "model_name": "LayoutModel",
          "state": {
            "_view_name": "LayoutView",
            "grid_template_rows": null,
            "right": null,
            "justify_content": null,
            "_view_module": "@jupyter-widgets/base",
            "overflow": null,
            "_model_module_version": "1.2.0",
            "_view_count": null,
            "flex_flow": null,
            "width": null,
            "min_width": null,
            "border": null,
            "align_items": null,
            "bottom": null,
            "_model_module": "@jupyter-widgets/base",
            "top": null,
            "grid_column": null,
            "overflow_y": null,
            "overflow_x": null,
            "grid_auto_flow": null,
            "grid_area": null,
            "grid_template_columns": null,
            "flex": null,
            "_model_name": "LayoutModel",
            "justify_items": null,
            "grid_row": null,
            "max_height": null,
            "align_content": null,
            "visibility": null,
            "align_self": null,
            "height": null,
            "min_height": null,
            "padding": null,
            "grid_auto_rows": null,
            "grid_gap": null,
            "max_width": null,
            "order": null,
            "_view_module_version": "1.2.0",
            "grid_template_areas": null,
            "object_position": null,
            "object_fit": null,
            "grid_auto_columns": null,
            "margin": null,
            "display": null,
            "left": null
          }
        },
        "5a12d918689240f59a7e1702aa018920": {
          "model_module": "@jupyter-widgets/controls",
          "model_name": "DescriptionStyleModel",
          "state": {
            "_view_name": "StyleView",
            "_model_name": "DescriptionStyleModel",
            "description_width": "",
            "_view_module": "@jupyter-widgets/base",
            "_model_module_version": "1.5.0",
            "_view_count": null,
            "_view_module_version": "1.2.0",
            "_model_module": "@jupyter-widgets/controls"
          }
        },
        "70c84f43450c4e3bb53dacee82fa9da4": {
          "model_module": "@jupyter-widgets/base",
          "model_name": "LayoutModel",
          "state": {
            "_view_name": "LayoutView",
            "grid_template_rows": null,
            "right": null,
            "justify_content": null,
            "_view_module": "@jupyter-widgets/base",
            "overflow": null,
            "_model_module_version": "1.2.0",
            "_view_count": null,
            "flex_flow": null,
            "width": null,
            "min_width": null,
            "border": null,
            "align_items": null,
            "bottom": null,
            "_model_module": "@jupyter-widgets/base",
            "top": null,
            "grid_column": null,
            "overflow_y": null,
            "overflow_x": null,
            "grid_auto_flow": null,
            "grid_area": null,
            "grid_template_columns": null,
            "flex": null,
            "_model_name": "LayoutModel",
            "justify_items": null,
            "grid_row": null,
            "max_height": null,
            "align_content": null,
            "visibility": null,
            "align_self": null,
            "height": null,
            "min_height": null,
            "padding": null,
            "grid_auto_rows": null,
            "grid_gap": null,
            "max_width": null,
            "order": null,
            "_view_module_version": "1.2.0",
            "grid_template_areas": null,
            "object_position": null,
            "object_fit": null,
            "grid_auto_columns": null,
            "margin": null,
            "display": null,
            "left": null
          }
        },
        "9064ea5b041545a5a6f8b2de5773e97a": {
          "model_module": "@jupyter-widgets/controls",
          "model_name": "HBoxModel",
          "state": {
            "_view_name": "HBoxView",
            "_dom_classes": [],
            "_model_name": "HBoxModel",
            "_view_module": "@jupyter-widgets/controls",
            "_model_module_version": "1.5.0",
            "_view_count": null,
            "_view_module_version": "1.5.0",
            "box_style": "",
            "layout": "IPY_MODEL_12b5598bdf0b4bc69b59f2928f55ecca",
            "_model_module": "@jupyter-widgets/controls",
            "children": [
              "IPY_MODEL_9c919998c21d4bfa9e57da6518552c99",
              "IPY_MODEL_7971f7c826594e2490d8510ce9c5838b"
            ]
          }
        },
        "12b5598bdf0b4bc69b59f2928f55ecca": {
          "model_module": "@jupyter-widgets/base",
          "model_name": "LayoutModel",
          "state": {
            "_view_name": "LayoutView",
            "grid_template_rows": null,
            "right": null,
            "justify_content": null,
            "_view_module": "@jupyter-widgets/base",
            "overflow": null,
            "_model_module_version": "1.2.0",
            "_view_count": null,
            "flex_flow": null,
            "width": null,
            "min_width": null,
            "border": null,
            "align_items": null,
            "bottom": null,
            "_model_module": "@jupyter-widgets/base",
            "top": null,
            "grid_column": null,
            "overflow_y": null,
            "overflow_x": null,
            "grid_auto_flow": null,
            "grid_area": null,
            "grid_template_columns": null,
            "flex": null,
            "_model_name": "LayoutModel",
            "justify_items": null,
            "grid_row": null,
            "max_height": null,
            "align_content": null,
            "visibility": null,
            "align_self": null,
            "height": null,
            "min_height": null,
            "padding": null,
            "grid_auto_rows": null,
            "grid_gap": null,
            "max_width": null,
            "order": null,
            "_view_module_version": "1.2.0",
            "grid_template_areas": null,
            "object_position": null,
            "object_fit": null,
            "grid_auto_columns": null,
            "margin": null,
            "display": null,
            "left": null
          }
        },
        "9c919998c21d4bfa9e57da6518552c99": {
          "model_module": "@jupyter-widgets/controls",
          "model_name": "FloatProgressModel",
          "state": {
            "_view_name": "ProgressView",
            "style": "IPY_MODEL_b69f5c07274348e7b7be6cce4bc57545",
            "_dom_classes": [],
            "description": "Downloading: 100%",
            "_model_name": "FloatProgressModel",
            "bar_style": "success",
            "max": 267844284,
            "_view_module": "@jupyter-widgets/controls",
            "_model_module_version": "1.5.0",
            "value": 267844284,
            "_view_count": null,
            "_view_module_version": "1.5.0",
            "orientation": "horizontal",
            "min": 0,
            "description_tooltip": null,
            "_model_module": "@jupyter-widgets/controls",
            "layout": "IPY_MODEL_ca92e34247d442dc8ed830bfe0176121"
          }
        },
        "7971f7c826594e2490d8510ce9c5838b": {
          "model_module": "@jupyter-widgets/controls",
          "model_name": "HTMLModel",
          "state": {
            "_view_name": "HTMLView",
            "style": "IPY_MODEL_fb459dc6e4bc4796abdfc52f0c52f39d",
            "_dom_classes": [],
            "description": "",
            "_model_name": "HTMLModel",
            "placeholder": "​",
            "_view_module": "@jupyter-widgets/controls",
            "_model_module_version": "1.5.0",
            "value": " 268M/268M [00:11&lt;00:00, 23.9MB/s]",
            "_view_count": null,
            "_view_module_version": "1.5.0",
            "description_tooltip": null,
            "_model_module": "@jupyter-widgets/controls",
            "layout": "IPY_MODEL_45f88625c3ae46cb993de4f666b4c76e"
          }
        },
        "b69f5c07274348e7b7be6cce4bc57545": {
          "model_module": "@jupyter-widgets/controls",
          "model_name": "ProgressStyleModel",
          "state": {
            "_view_name": "StyleView",
            "_model_name": "ProgressStyleModel",
            "description_width": "initial",
            "_view_module": "@jupyter-widgets/base",
            "_model_module_version": "1.5.0",
            "_view_count": null,
            "_view_module_version": "1.2.0",
            "bar_color": null,
            "_model_module": "@jupyter-widgets/controls"
          }
        },
        "ca92e34247d442dc8ed830bfe0176121": {
          "model_module": "@jupyter-widgets/base",
          "model_name": "LayoutModel",
          "state": {
            "_view_name": "LayoutView",
            "grid_template_rows": null,
            "right": null,
            "justify_content": null,
            "_view_module": "@jupyter-widgets/base",
            "overflow": null,
            "_model_module_version": "1.2.0",
            "_view_count": null,
            "flex_flow": null,
            "width": null,
            "min_width": null,
            "border": null,
            "align_items": null,
            "bottom": null,
            "_model_module": "@jupyter-widgets/base",
            "top": null,
            "grid_column": null,
            "overflow_y": null,
            "overflow_x": null,
            "grid_auto_flow": null,
            "grid_area": null,
            "grid_template_columns": null,
            "flex": null,
            "_model_name": "LayoutModel",
            "justify_items": null,
            "grid_row": null,
            "max_height": null,
            "align_content": null,
            "visibility": null,
            "align_self": null,
            "height": null,
            "min_height": null,
            "padding": null,
            "grid_auto_rows": null,
            "grid_gap": null,
            "max_width": null,
            "order": null,
            "_view_module_version": "1.2.0",
            "grid_template_areas": null,
            "object_position": null,
            "object_fit": null,
            "grid_auto_columns": null,
            "margin": null,
            "display": null,
            "left": null
          }
        },
        "fb459dc6e4bc4796abdfc52f0c52f39d": {
          "model_module": "@jupyter-widgets/controls",
          "model_name": "DescriptionStyleModel",
          "state": {
            "_view_name": "StyleView",
            "_model_name": "DescriptionStyleModel",
            "description_width": "",
            "_view_module": "@jupyter-widgets/base",
            "_model_module_version": "1.5.0",
            "_view_count": null,
            "_view_module_version": "1.2.0",
            "_model_module": "@jupyter-widgets/controls"
          }
        },
        "45f88625c3ae46cb993de4f666b4c76e": {
          "model_module": "@jupyter-widgets/base",
          "model_name": "LayoutModel",
          "state": {
            "_view_name": "LayoutView",
            "grid_template_rows": null,
            "right": null,
            "justify_content": null,
            "_view_module": "@jupyter-widgets/base",
            "overflow": null,
            "_model_module_version": "1.2.0",
            "_view_count": null,
            "flex_flow": null,
            "width": null,
            "min_width": null,
            "border": null,
            "align_items": null,
            "bottom": null,
            "_model_module": "@jupyter-widgets/base",
            "top": null,
            "grid_column": null,
            "overflow_y": null,
            "overflow_x": null,
            "grid_auto_flow": null,
            "grid_area": null,
            "grid_template_columns": null,
            "flex": null,
            "_model_name": "LayoutModel",
            "justify_items": null,
            "grid_row": null,
            "max_height": null,
            "align_content": null,
            "visibility": null,
            "align_self": null,
            "height": null,
            "min_height": null,
            "padding": null,
            "grid_auto_rows": null,
            "grid_gap": null,
            "max_width": null,
            "order": null,
            "_view_module_version": "1.2.0",
            "grid_template_areas": null,
            "object_position": null,
            "object_fit": null,
            "grid_auto_columns": null,
            "margin": null,
            "display": null,
            "left": null
          }
        },
        "42bb74f7711742308860466be34e09a3": {
          "model_module": "@jupyter-widgets/controls",
          "model_name": "HBoxModel",
          "state": {
            "_view_name": "HBoxView",
            "_dom_classes": [],
            "_model_name": "HBoxModel",
            "_view_module": "@jupyter-widgets/controls",
            "_model_module_version": "1.5.0",
            "_view_count": null,
            "_view_module_version": "1.5.0",
            "box_style": "",
            "layout": "IPY_MODEL_a9de33f24226477bae3920da05b5b484",
            "_model_module": "@jupyter-widgets/controls",
            "children": [
              "IPY_MODEL_ce35ea74d2df4cda80e9b5b91edb9589",
              "IPY_MODEL_3111f6e8f234458f888a7421f26d98db"
            ]
          }
        },
        "a9de33f24226477bae3920da05b5b484": {
          "model_module": "@jupyter-widgets/base",
          "model_name": "LayoutModel",
          "state": {
            "_view_name": "LayoutView",
            "grid_template_rows": null,
            "right": null,
            "justify_content": null,
            "_view_module": "@jupyter-widgets/base",
            "overflow": null,
            "_model_module_version": "1.2.0",
            "_view_count": null,
            "flex_flow": null,
            "width": null,
            "min_width": null,
            "border": null,
            "align_items": null,
            "bottom": null,
            "_model_module": "@jupyter-widgets/base",
            "top": null,
            "grid_column": null,
            "overflow_y": null,
            "overflow_x": null,
            "grid_auto_flow": null,
            "grid_area": null,
            "grid_template_columns": null,
            "flex": null,
            "_model_name": "LayoutModel",
            "justify_items": null,
            "grid_row": null,
            "max_height": null,
            "align_content": null,
            "visibility": null,
            "align_self": null,
            "height": null,
            "min_height": null,
            "padding": null,
            "grid_auto_rows": null,
            "grid_gap": null,
            "max_width": null,
            "order": null,
            "_view_module_version": "1.2.0",
            "grid_template_areas": null,
            "object_position": null,
            "object_fit": null,
            "grid_auto_columns": null,
            "margin": null,
            "display": null,
            "left": null
          }
        },
        "ce35ea74d2df4cda80e9b5b91edb9589": {
          "model_module": "@jupyter-widgets/controls",
          "model_name": "FloatProgressModel",
          "state": {
            "_view_name": "ProgressView",
            "style": "IPY_MODEL_9bcabcb987a3416d9e8eaee5ea13a140",
            "_dom_classes": [],
            "description": "Downloading: 100%",
            "_model_name": "FloatProgressModel",
            "bar_style": "success",
            "max": 231508,
            "_view_module": "@jupyter-widgets/controls",
            "_model_module_version": "1.5.0",
            "value": 231508,
            "_view_count": null,
            "_view_module_version": "1.5.0",
            "orientation": "horizontal",
            "min": 0,
            "description_tooltip": null,
            "_model_module": "@jupyter-widgets/controls",
            "layout": "IPY_MODEL_b005b9a76988495f9c99249cb14ea311"
          }
        },
        "3111f6e8f234458f888a7421f26d98db": {
          "model_module": "@jupyter-widgets/controls",
          "model_name": "HTMLModel",
          "state": {
            "_view_name": "HTMLView",
            "style": "IPY_MODEL_8c575afc2d97427cbae5edc98455cca2",
            "_dom_classes": [],
            "description": "",
            "_model_name": "HTMLModel",
            "placeholder": "​",
            "_view_module": "@jupyter-widgets/controls",
            "_model_module_version": "1.5.0",
            "value": " 232k/232k [00:00&lt;00:00, 793kB/s]",
            "_view_count": null,
            "_view_module_version": "1.5.0",
            "description_tooltip": null,
            "_model_module": "@jupyter-widgets/controls",
            "layout": "IPY_MODEL_3d902f0e04bf40cfa2333ab4c8497c91"
          }
        },
        "9bcabcb987a3416d9e8eaee5ea13a140": {
          "model_module": "@jupyter-widgets/controls",
          "model_name": "ProgressStyleModel",
          "state": {
            "_view_name": "StyleView",
            "_model_name": "ProgressStyleModel",
            "description_width": "initial",
            "_view_module": "@jupyter-widgets/base",
            "_model_module_version": "1.5.0",
            "_view_count": null,
            "_view_module_version": "1.2.0",
            "bar_color": null,
            "_model_module": "@jupyter-widgets/controls"
          }
        },
        "b005b9a76988495f9c99249cb14ea311": {
          "model_module": "@jupyter-widgets/base",
          "model_name": "LayoutModel",
          "state": {
            "_view_name": "LayoutView",
            "grid_template_rows": null,
            "right": null,
            "justify_content": null,
            "_view_module": "@jupyter-widgets/base",
            "overflow": null,
            "_model_module_version": "1.2.0",
            "_view_count": null,
            "flex_flow": null,
            "width": null,
            "min_width": null,
            "border": null,
            "align_items": null,
            "bottom": null,
            "_model_module": "@jupyter-widgets/base",
            "top": null,
            "grid_column": null,
            "overflow_y": null,
            "overflow_x": null,
            "grid_auto_flow": null,
            "grid_area": null,
            "grid_template_columns": null,
            "flex": null,
            "_model_name": "LayoutModel",
            "justify_items": null,
            "grid_row": null,
            "max_height": null,
            "align_content": null,
            "visibility": null,
            "align_self": null,
            "height": null,
            "min_height": null,
            "padding": null,
            "grid_auto_rows": null,
            "grid_gap": null,
            "max_width": null,
            "order": null,
            "_view_module_version": "1.2.0",
            "grid_template_areas": null,
            "object_position": null,
            "object_fit": null,
            "grid_auto_columns": null,
            "margin": null,
            "display": null,
            "left": null
          }
        },
        "8c575afc2d97427cbae5edc98455cca2": {
          "model_module": "@jupyter-widgets/controls",
          "model_name": "DescriptionStyleModel",
          "state": {
            "_view_name": "StyleView",
            "_model_name": "DescriptionStyleModel",
            "description_width": "",
            "_view_module": "@jupyter-widgets/base",
            "_model_module_version": "1.5.0",
            "_view_count": null,
            "_view_module_version": "1.2.0",
            "_model_module": "@jupyter-widgets/controls"
          }
        },
        "3d902f0e04bf40cfa2333ab4c8497c91": {
          "model_module": "@jupyter-widgets/base",
          "model_name": "LayoutModel",
          "state": {
            "_view_name": "LayoutView",
            "grid_template_rows": null,
            "right": null,
            "justify_content": null,
            "_view_module": "@jupyter-widgets/base",
            "overflow": null,
            "_model_module_version": "1.2.0",
            "_view_count": null,
            "flex_flow": null,
            "width": null,
            "min_width": null,
            "border": null,
            "align_items": null,
            "bottom": null,
            "_model_module": "@jupyter-widgets/base",
            "top": null,
            "grid_column": null,
            "overflow_y": null,
            "overflow_x": null,
            "grid_auto_flow": null,
            "grid_area": null,
            "grid_template_columns": null,
            "flex": null,
            "_model_name": "LayoutModel",
            "justify_items": null,
            "grid_row": null,
            "max_height": null,
            "align_content": null,
            "visibility": null,
            "align_self": null,
            "height": null,
            "min_height": null,
            "padding": null,
            "grid_auto_rows": null,
            "grid_gap": null,
            "max_width": null,
            "order": null,
            "_view_module_version": "1.2.0",
            "grid_template_areas": null,
            "object_position": null,
            "object_fit": null,
            "grid_auto_columns": null,
            "margin": null,
            "display": null,
            "left": null
          }
        },
        "5461b13a389745c99892641169dcfcbb": {
          "model_module": "@jupyter-widgets/controls",
          "model_name": "HBoxModel",
          "state": {
            "_view_name": "HBoxView",
            "_dom_classes": [],
            "_model_name": "HBoxModel",
            "_view_module": "@jupyter-widgets/controls",
            "_model_module_version": "1.5.0",
            "_view_count": null,
            "_view_module_version": "1.5.0",
            "box_style": "",
            "layout": "IPY_MODEL_0df2779b85a546e0a6fbf0743c98ffa0",
            "_model_module": "@jupyter-widgets/controls",
            "children": [
              "IPY_MODEL_2fe6c7f0c4af4bee931ad179ab4bd178",
              "IPY_MODEL_ef74866ad5f14813b7b79708553556b0"
            ]
          }
        },
        "0df2779b85a546e0a6fbf0743c98ffa0": {
          "model_module": "@jupyter-widgets/base",
          "model_name": "LayoutModel",
          "state": {
            "_view_name": "LayoutView",
            "grid_template_rows": null,
            "right": null,
            "justify_content": null,
            "_view_module": "@jupyter-widgets/base",
            "overflow": null,
            "_model_module_version": "1.2.0",
            "_view_count": null,
            "flex_flow": null,
            "width": null,
            "min_width": null,
            "border": null,
            "align_items": null,
            "bottom": null,
            "_model_module": "@jupyter-widgets/base",
            "top": null,
            "grid_column": null,
            "overflow_y": null,
            "overflow_x": null,
            "grid_auto_flow": null,
            "grid_area": null,
            "grid_template_columns": null,
            "flex": null,
            "_model_name": "LayoutModel",
            "justify_items": null,
            "grid_row": null,
            "max_height": null,
            "align_content": null,
            "visibility": null,
            "align_self": null,
            "height": null,
            "min_height": null,
            "padding": null,
            "grid_auto_rows": null,
            "grid_gap": null,
            "max_width": null,
            "order": null,
            "_view_module_version": "1.2.0",
            "grid_template_areas": null,
            "object_position": null,
            "object_fit": null,
            "grid_auto_columns": null,
            "margin": null,
            "display": null,
            "left": null
          }
        },
        "2fe6c7f0c4af4bee931ad179ab4bd178": {
          "model_module": "@jupyter-widgets/controls",
          "model_name": "FloatProgressModel",
          "state": {
            "_view_name": "ProgressView",
            "style": "IPY_MODEL_82a99008c7e34caeb1f0371e55a63e3a",
            "_dom_classes": [],
            "description": "Downloading: 100%",
            "_model_name": "FloatProgressModel",
            "bar_style": "success",
            "max": 48,
            "_view_module": "@jupyter-widgets/controls",
            "_model_module_version": "1.5.0",
            "value": 48,
            "_view_count": null,
            "_view_module_version": "1.5.0",
            "orientation": "horizontal",
            "min": 0,
            "description_tooltip": null,
            "_model_module": "@jupyter-widgets/controls",
            "layout": "IPY_MODEL_907bbd27e6fc4695aeec1811bf993a28"
          }
        },
        "ef74866ad5f14813b7b79708553556b0": {
          "model_module": "@jupyter-widgets/controls",
          "model_name": "HTMLModel",
          "state": {
            "_view_name": "HTMLView",
            "style": "IPY_MODEL_524e4170c92c4747b99a3aee8e73aae0",
            "_dom_classes": [],
            "description": "",
            "_model_name": "HTMLModel",
            "placeholder": "​",
            "_view_module": "@jupyter-widgets/controls",
            "_model_module_version": "1.5.0",
            "value": " 48.0/48.0 [00:00&lt;00:00, 724B/s]",
            "_view_count": null,
            "_view_module_version": "1.5.0",
            "description_tooltip": null,
            "_model_module": "@jupyter-widgets/controls",
            "layout": "IPY_MODEL_cfb7ee560c544a568db94b14f4989466"
          }
        },
        "82a99008c7e34caeb1f0371e55a63e3a": {
          "model_module": "@jupyter-widgets/controls",
          "model_name": "ProgressStyleModel",
          "state": {
            "_view_name": "StyleView",
            "_model_name": "ProgressStyleModel",
            "description_width": "initial",
            "_view_module": "@jupyter-widgets/base",
            "_model_module_version": "1.5.0",
            "_view_count": null,
            "_view_module_version": "1.2.0",
            "bar_color": null,
            "_model_module": "@jupyter-widgets/controls"
          }
        },
        "907bbd27e6fc4695aeec1811bf993a28": {
          "model_module": "@jupyter-widgets/base",
          "model_name": "LayoutModel",
          "state": {
            "_view_name": "LayoutView",
            "grid_template_rows": null,
            "right": null,
            "justify_content": null,
            "_view_module": "@jupyter-widgets/base",
            "overflow": null,
            "_model_module_version": "1.2.0",
            "_view_count": null,
            "flex_flow": null,
            "width": null,
            "min_width": null,
            "border": null,
            "align_items": null,
            "bottom": null,
            "_model_module": "@jupyter-widgets/base",
            "top": null,
            "grid_column": null,
            "overflow_y": null,
            "overflow_x": null,
            "grid_auto_flow": null,
            "grid_area": null,
            "grid_template_columns": null,
            "flex": null,
            "_model_name": "LayoutModel",
            "justify_items": null,
            "grid_row": null,
            "max_height": null,
            "align_content": null,
            "visibility": null,
            "align_self": null,
            "height": null,
            "min_height": null,
            "padding": null,
            "grid_auto_rows": null,
            "grid_gap": null,
            "max_width": null,
            "order": null,
            "_view_module_version": "1.2.0",
            "grid_template_areas": null,
            "object_position": null,
            "object_fit": null,
            "grid_auto_columns": null,
            "margin": null,
            "display": null,
            "left": null
          }
        },
        "524e4170c92c4747b99a3aee8e73aae0": {
          "model_module": "@jupyter-widgets/controls",
          "model_name": "DescriptionStyleModel",
          "state": {
            "_view_name": "StyleView",
            "_model_name": "DescriptionStyleModel",
            "description_width": "",
            "_view_module": "@jupyter-widgets/base",
            "_model_module_version": "1.5.0",
            "_view_count": null,
            "_view_module_version": "1.2.0",
            "_model_module": "@jupyter-widgets/controls"
          }
        },
        "cfb7ee560c544a568db94b14f4989466": {
          "model_module": "@jupyter-widgets/base",
          "model_name": "LayoutModel",
          "state": {
            "_view_name": "LayoutView",
            "grid_template_rows": null,
            "right": null,
            "justify_content": null,
            "_view_module": "@jupyter-widgets/base",
            "overflow": null,
            "_model_module_version": "1.2.0",
            "_view_count": null,
            "flex_flow": null,
            "width": null,
            "min_width": null,
            "border": null,
            "align_items": null,
            "bottom": null,
            "_model_module": "@jupyter-widgets/base",
            "top": null,
            "grid_column": null,
            "overflow_y": null,
            "overflow_x": null,
            "grid_auto_flow": null,
            "grid_area": null,
            "grid_template_columns": null,
            "flex": null,
            "_model_name": "LayoutModel",
            "justify_items": null,
            "grid_row": null,
            "max_height": null,
            "align_content": null,
            "visibility": null,
            "align_self": null,
            "height": null,
            "min_height": null,
            "padding": null,
            "grid_auto_rows": null,
            "grid_gap": null,
            "max_width": null,
            "order": null,
            "_view_module_version": "1.2.0",
            "grid_template_areas": null,
            "object_position": null,
            "object_fit": null,
            "grid_auto_columns": null,
            "margin": null,
            "display": null,
            "left": null
          }
        }
      }
    }
  },
  "cells": [
    {
      "cell_type": "markdown",
      "metadata": {
        "id": "AzDu49JIXhYg"
      },
      "source": [
        "# **Install and Import Dependencies**"
      ]
    },
    {
      "cell_type": "code",
      "metadata": {
        "colab": {
          "base_uri": "https://localhost:8080/"
        },
        "id": "clNfD0X_XorS",
        "outputId": "7649bd38-8d71-4c0e-8648-cecc9d190289"
      },
      "source": [
        "!pip install transformers\n"
      ],
      "execution_count": 1,
      "outputs": [
        {
          "output_type": "stream",
          "text": [
            "Requirement already satisfied: transformers in /usr/local/lib/python3.7/dist-packages (4.5.1)\n",
            "Requirement already satisfied: filelock in /usr/local/lib/python3.7/dist-packages (from transformers) (3.0.12)\n",
            "Requirement already satisfied: numpy>=1.17 in /usr/local/lib/python3.7/dist-packages (from transformers) (1.19.5)\n",
            "Requirement already satisfied: requests in /usr/local/lib/python3.7/dist-packages (from transformers) (2.23.0)\n",
            "Requirement already satisfied: sacremoses in /usr/local/lib/python3.7/dist-packages (from transformers) (0.0.45)\n",
            "Requirement already satisfied: tqdm>=4.27 in /usr/local/lib/python3.7/dist-packages (from transformers) (4.41.1)\n",
            "Requirement already satisfied: importlib-metadata; python_version < \"3.8\" in /usr/local/lib/python3.7/dist-packages (from transformers) (3.10.1)\n",
            "Requirement already satisfied: packaging in /usr/local/lib/python3.7/dist-packages (from transformers) (20.9)\n",
            "Requirement already satisfied: regex!=2019.12.17 in /usr/local/lib/python3.7/dist-packages (from transformers) (2019.12.20)\n",
            "Requirement already satisfied: tokenizers<0.11,>=0.10.1 in /usr/local/lib/python3.7/dist-packages (from transformers) (0.10.2)\n",
            "Requirement already satisfied: chardet<4,>=3.0.2 in /usr/local/lib/python3.7/dist-packages (from requests->transformers) (3.0.4)\n",
            "Requirement already satisfied: idna<3,>=2.5 in /usr/local/lib/python3.7/dist-packages (from requests->transformers) (2.10)\n",
            "Requirement already satisfied: urllib3!=1.25.0,!=1.25.1,<1.26,>=1.21.1 in /usr/local/lib/python3.7/dist-packages (from requests->transformers) (1.24.3)\n",
            "Requirement already satisfied: certifi>=2017.4.17 in /usr/local/lib/python3.7/dist-packages (from requests->transformers) (2020.12.5)\n",
            "Requirement already satisfied: joblib in /usr/local/lib/python3.7/dist-packages (from sacremoses->transformers) (1.0.1)\n",
            "Requirement already satisfied: click in /usr/local/lib/python3.7/dist-packages (from sacremoses->transformers) (7.1.2)\n",
            "Requirement already satisfied: six in /usr/local/lib/python3.7/dist-packages (from sacremoses->transformers) (1.15.0)\n",
            "Requirement already satisfied: typing-extensions>=3.6.4; python_version < \"3.8\" in /usr/local/lib/python3.7/dist-packages (from importlib-metadata; python_version < \"3.8\"->transformers) (3.7.4.3)\n",
            "Requirement already satisfied: zipp>=0.5 in /usr/local/lib/python3.7/dist-packages (from importlib-metadata; python_version < \"3.8\"->transformers) (3.4.1)\n",
            "Requirement already satisfied: pyparsing>=2.0.2 in /usr/local/lib/python3.7/dist-packages (from packaging->transformers) (2.4.7)\n"
          ],
          "name": "stdout"
        }
      ]
    },
    {
      "cell_type": "code",
      "metadata": {
        "colab": {
          "base_uri": "https://localhost:8080/"
        },
        "id": "Ko8PZYHaqV7C",
        "outputId": "c0c47e31-210a-466b-c9c2-27b27eeae971"
      },
      "source": [
        "% pip install sentencepiece"
      ],
      "execution_count": 2,
      "outputs": [
        {
          "output_type": "stream",
          "text": [
            "Requirement already satisfied: sentencepiece in /usr/local/lib/python3.7/dist-packages (0.1.95)\n"
          ],
          "name": "stdout"
        }
      ]
    },
    {
      "cell_type": "code",
      "metadata": {
        "id": "MdUFZUIkX6wB"
      },
      "source": [
        "from transformers import PegasusTokenizer, PegasusForConditionalGeneration\n",
        "from bs4 import BeautifulSoup\n",
        "import requests"
      ],
      "execution_count": 3,
      "outputs": []
    },
    {
      "cell_type": "markdown",
      "metadata": {
        "id": "7r-LGWgAZef4"
      },
      "source": [
        "# **Setup Summarization Model**"
      ]
    },
    {
      "cell_type": "code",
      "metadata": {
        "colab": {
          "base_uri": "https://localhost:8080/",
          "height": 164,
          "referenced_widgets": [
            "49a10eedf61740159d5dd79fe4337f64",
            "3c6916b83cc847a1b4ccfdaa0fcddf80",
            "83e7aea51621481986f594a262df26f5",
            "d3798cd752dd4d58930fc209eaa9ae9d",
            "be78f5efccaf4b22a3089c104b8b2a62",
            "7be7ab1b66e54bacacb08055a90af8d2",
            "45b464b0d38a437f8da4cfb5dfd5534e",
            "221ebd6d842d45a488c64aa09715fbd6",
            "0a88903055b84816823dc39d86d41473",
            "6d2f2b7529f24817bd1dfcc540345d7e",
            "fb53bd9fadf94c3b927ef024d88210d1",
            "5cf71fcac01248e2b91dc4f4ca448c2d",
            "5659fcee3a634e8cbfc1419c675454b4",
            "ac9311088f7349848c26ff25200bcba1",
            "2c86f3a657e84e3dbeb6ac782a53a047",
            "096af72666cc4959b3143ffc7df40a94",
            "354f52a3fd5a47ddb018f28314d570c7",
            "a74d7368c17a4405a35643c593325019",
            "4e3ad29ff9124716a94dc1197145acf0",
            "f6fac2d2f66f41ecaafce3fdc376cf1b",
            "bd6914e5c91c4be684801ca4b2dec557",
            "adb6f275065b4c24a741a65297913e30",
            "f0dae7ec31664931917a3e688b846014",
            "44b3d9da35684a47b53b2c49dabca152"
          ]
        },
        "id": "FLDCagV6ZnJD",
        "outputId": "ef39db43-b8b4-49bd-8a28-af98ed763771"
      },
      "source": [
        "model_name = \"human-centered-summarization/financial-summarization-pegasus\"\n",
        "tokenizer = PegasusTokenizer.from_pretrained(model_name)\n",
        "model = PegasusForConditionalGeneration.from_pretrained(model_name)"
      ],
      "execution_count": 4,
      "outputs": [
        {
          "output_type": "display_data",
          "data": {
            "application/vnd.jupyter.widget-view+json": {
              "model_id": "49a10eedf61740159d5dd79fe4337f64",
              "version_minor": 0,
              "version_major": 2
            },
            "text/plain": [
              "HBox(children=(FloatProgress(value=0.0, description='Downloading', max=1912529.0, style=ProgressStyle(descript…"
            ]
          },
          "metadata": {
            "tags": []
          }
        },
        {
          "output_type": "stream",
          "text": [
            "\n"
          ],
          "name": "stdout"
        },
        {
          "output_type": "display_data",
          "data": {
            "application/vnd.jupyter.widget-view+json": {
              "model_id": "0a88903055b84816823dc39d86d41473",
              "version_minor": 0,
              "version_major": 2
            },
            "text/plain": [
              "HBox(children=(FloatProgress(value=0.0, description='Downloading', max=1341.0, style=ProgressStyle(description…"
            ]
          },
          "metadata": {
            "tags": []
          }
        },
        {
          "output_type": "stream",
          "text": [
            "\n"
          ],
          "name": "stdout"
        },
        {
          "output_type": "display_data",
          "data": {
            "application/vnd.jupyter.widget-view+json": {
              "model_id": "354f52a3fd5a47ddb018f28314d570c7",
              "version_minor": 0,
              "version_major": 2
            },
            "text/plain": [
              "HBox(children=(FloatProgress(value=0.0, description='Downloading', max=1436.0, style=ProgressStyle(description…"
            ]
          },
          "metadata": {
            "tags": []
          }
        },
        {
          "output_type": "stream",
          "text": [
            "\n"
          ],
          "name": "stdout"
        }
      ]
    },
    {
      "cell_type": "markdown",
      "metadata": {
        "id": "wl6WACf0bFSZ"
      },
      "source": [
        "# **Summarizer a Single Article**"
      ]
    },
    {
      "cell_type": "code",
      "metadata": {
        "id": "vV4LsbUnZWBV"
      },
      "source": [
        "url = \"https://au.finance.yahoo.com/news/china-restricting-tesla-use-uncovers-a-significant-challenge-for-elon-musk-expert-161921664.html\"\n",
        "r = requests.get(url)\n",
        "soup = BeautifulSoup(r.text, 'html.parser')\n",
        "paragraphs = soup.find_all('p')"
      ],
      "execution_count": 5,
      "outputs": []
    },
    {
      "cell_type": "code",
      "metadata": {
        "colab": {
          "base_uri": "https://localhost:8080/",
          "height": 35
        },
        "id": "r12hkpLccCVX",
        "outputId": "bbda4115-6afe-42ab-e351-3f9b8b9daae6"
      },
      "source": [
        "paragraphs[0].text"
      ],
      "execution_count": 6,
      "outputs": [
        {
          "output_type": "execute_result",
          "data": {
            "application/vnd.google.colaboratory.intrinsic+json": {
              "type": "string"
            },
            "text/plain": [
              "'Reporting live from Parliament House, sign up to get our Budget Breakdown.'"
            ]
          },
          "metadata": {
            "tags": []
          },
          "execution_count": 6
        }
      ]
    },
    {
      "cell_type": "code",
      "metadata": {
        "id": "bSa0rGx1cLsB"
      },
      "source": [
        "text = [paragraph.text for paragraph in paragraphs]\n",
        "words = ' '.join(text).split(' ')[:400]\n",
        "ARTICLE = ' '.join(words)"
      ],
      "execution_count": 7,
      "outputs": []
    },
    {
      "cell_type": "code",
      "metadata": {
        "id": "BHSqrZdUe4d3"
      },
      "source": [
        "input_ids = tokenizer.encode(ARTICLE, return_tensors ='pt')\n",
        "output = model.generate(input_ids, max_length=55, num_beams=5, early_stopping=True)\n",
        "summary = tokenizer.decode(output[0], skip_special_tokens=True)"
      ],
      "execution_count": 8,
      "outputs": []
    },
    {
      "cell_type": "code",
      "metadata": {
        "colab": {
          "base_uri": "https://localhost:8080/",
          "height": 35
        },
        "id": "4uhHglyuvhDh",
        "outputId": "77b5503c-2d63-49fa-9ec7-f35916d52dd1"
      },
      "source": [
        "summary"
      ],
      "execution_count": 9,
      "outputs": [
        {
          "output_type": "execute_result",
          "data": {
            "application/vnd.google.colaboratory.intrinsic+json": {
              "type": "string"
            },
            "text/plain": [
              "'Tensions between U.S. and China may have already had blowback. Tesla has been successful in China in recent years'"
            ]
          },
          "metadata": {
            "tags": []
          },
          "execution_count": 9
        }
      ]
    },
    {
      "cell_type": "markdown",
      "metadata": {
        "id": "9YknrSUkwCSs"
      },
      "source": [
        "# **4. Building a news and Sentiment Pipeline**"
      ]
    },
    {
      "cell_type": "code",
      "metadata": {
        "id": "v0fekrckwPH1"
      },
      "source": [
        "monitored_tickers = ['GME', 'TSLA', 'BTC', 'ETH']"
      ],
      "execution_count": 10,
      "outputs": []
    },
    {
      "cell_type": "markdown",
      "metadata": {
        "id": "DQe0XeD5wj_6"
      },
      "source": [
        "4.1. Search for Stock News using Google and Yahoo Finance"
      ]
    },
    {
      "cell_type": "code",
      "metadata": {
        "id": "Qyol5IEzwoSd"
      },
      "source": [
        "def search_for_stock_news_urls(ticker):\n",
        "    search_url = \"https://www.google.com/search?q=yahoo+finance+{}&tbm=nws\".format(ticker)\n",
        "    r = requests.get(search_url)\n",
        "    soup = BeautifulSoup(r.text, 'html.parser')\n",
        "    atags = soup.find_all('a')\n",
        "    hrefs = [link['href'] for link in atags]\n",
        "    return hrefs "
      ],
      "execution_count": 11,
      "outputs": []
    },
    {
      "cell_type": "code",
      "metadata": {
        "id": "YR3BELsIx40Z"
      },
      "source": [
        "raw_urls = {ticker:search_for_stock_news_urls(ticker) for ticker in monitored_tickers}\n",
        "raw_urls"
      ],
      "execution_count": null,
      "outputs": []
    },
    {
      "cell_type": "code",
      "metadata": {
        "id": "kaTQ-0dhyABp"
      },
      "source": [
        "raw_urls['ETH']"
      ],
      "execution_count": null,
      "outputs": []
    },
    {
      "cell_type": "markdown",
      "metadata": {
        "id": "YDUlnEUvzGXh"
      },
      "source": [
        "4.2. Strip out unwanted URLs"
      ]
    },
    {
      "cell_type": "code",
      "metadata": {
        "id": "L_4cPB7LzD37"
      },
      "source": [
        "import re"
      ],
      "execution_count": 14,
      "outputs": []
    },
    {
      "cell_type": "code",
      "metadata": {
        "id": "SXOX5Z8YzcoP"
      },
      "source": [
        "exclude_list = ['maps', 'policies', 'preferences', 'accounts', 'support']"
      ],
      "execution_count": 15,
      "outputs": []
    },
    {
      "cell_type": "code",
      "metadata": {
        "id": "6AP8_jEPz5hP"
      },
      "source": [
        "def strip_unwanted_urls(urls, exclude_list):\n",
        "    val = []\n",
        "    for url in urls: \n",
        "        if 'https://' in url and not any(exclude_word in url for exclude_word in exclude_list):\n",
        "            res = re.findall(r'(https?://\\S+)', url)[0].split('&')[0]\n",
        "            val.append(res)\n",
        "    return list(set(val))"
      ],
      "execution_count": 16,
      "outputs": []
    },
    {
      "cell_type": "code",
      "metadata": {
        "id": "CSts4vuZ2rC7"
      },
      "source": [
        "cleaned_urls = {ticker:strip_unwanted_urls(raw_urls[ticker], exclude_list) for ticker in monitored_tickers}\n",
        "cleaned_urls"
      ],
      "execution_count": null,
      "outputs": []
    },
    {
      "cell_type": "markdown",
      "metadata": {
        "id": "IYJBBmN82uK9"
      },
      "source": [
        "4.3. Search and Scrape Cleaned URLs"
      ]
    },
    {
      "cell_type": "code",
      "metadata": {
        "id": "OfOZ1B7o20Ri"
      },
      "source": [
        "def scrape_and_process(URLs):\n",
        "    ARTICLES = []\n",
        "    for url in URLs: \n",
        "        r = requests.get(url)\n",
        "        soup = BeautifulSoup(r.text, 'html.parser')\n",
        "        paragraphs = soup.find_all('p')\n",
        "        text = [paragraph.text for paragraph in paragraphs]\n",
        "        words = ' '.join(text).split(' ')[:350]\n",
        "        ARTICLE = ' '.join(words)\n",
        "        ARTICLES.append(ARTICLE)\n",
        "    return ARTICLES"
      ],
      "execution_count": 18,
      "outputs": []
    },
    {
      "cell_type": "code",
      "metadata": {
        "id": "db7gOMmy2-MD"
      },
      "source": [
        "articles = {ticker:scrape_and_process(cleaned_urls[ticker]) for ticker in monitored_tickers}\n",
        "articles"
      ],
      "execution_count": null,
      "outputs": []
    },
    {
      "cell_type": "code",
      "metadata": {
        "id": "t6VwwM0l3I28"
      },
      "source": [
        "articles['ETH'][2]"
      ],
      "execution_count": null,
      "outputs": []
    },
    {
      "cell_type": "markdown",
      "metadata": {
        "id": "cKPQ5u1f3IgP"
      },
      "source": [
        "4.4. Summarise all Articles"
      ]
    },
    {
      "cell_type": "code",
      "metadata": {
        "id": "GEoDjunkZWBm"
      },
      "source": [
        "def summarize(articles):\n",
        "    summaries = []\n",
        "    for article in articles:\n",
        "        input_ids = tokenizer.encode(article, return_tensors='pt')\n",
        "        output = model.generate(input_ids, max_length=55, num_beams=5, early_stopping=True)\n",
        "        summary = tokenizer.decode(output[0], skip_special_tokens=True)\n",
        "        summaries.append(summary)\n",
        "    return summaries"
      ],
      "execution_count": 21,
      "outputs": []
    },
    {
      "cell_type": "code",
      "metadata": {
        "colab": {
          "base_uri": "https://localhost:8080/"
        },
        "id": "IycDbl2p3rlS",
        "outputId": "26dbb4c7-7bca-415b-d568-6d6507013dc4"
      },
      "source": [
        "summaries = {ticker:summarize(articles[ticker]) for ticker in monitored_tickers}\n",
        "summaries"
      ],
      "execution_count": 22,
      "outputs": [
        {
          "output_type": "execute_result",
          "data": {
            "text/plain": [
              "{'BTC': ['Largest token is trading in a tight range between $56,400 and $59,700. Ether is also in a tight range between $64,000 and $64,000',\n",
              "  'Fidelity’s Wise Origin Bitcoin Trust would be listed. Cboe seeking to list Wise Origin Bitcoin Trust',\n",
              "  'Scammers claim to have given away nearly $100,000 in crypto. Bitcoin remains in tight trading range between $56,400 and $59,700',\n",
              "  'Is Bitcoin a good investment or a dangerous speculative bubble? Experts on both sides of the coin give their views',\n",
              "  'Kevin Simpson, Founder and Chief Investment Officer at Capital Wealth Planning.',\n",
              "  'Digital currency was invented under the pseudonym Satoshi Nakamoto.',\n",
              "  'Largest cryptocurrency is trading slightly above $55,000.',\n",
              "  'Dogecoin fell through 23.6% FIB of $0.5691, 38.2% FIB of $0.4618.',\n",
              "  'Second-largest crypto is up four-fold in 2021 vs. Bitcoin. Wedbush sees crypto boom playing out for next decade',\n",
              "  'Largest cryptocurrency continues to trade lower than April’s high. Ethereum has more than doubled in 16 days'],\n",
              " 'ETH': ['Dogecoin plunges as Elon Musk calls it ‘a hustle’ on SNL.',\n",
              "  'Ethereum has gained more than 436% this year. Bitcoin has fallen below $20,000 for the first time since December',\n",
              "  'Musk’s tweet on Sunday failed to lift the coin. Dogecoin has been rallying since the start of the year',\n",
              "  'Scammers claim to have given away nearly $100,000 in crypto. Bitcoin remains in tight trading range between $56,400 and $59,700',\n",
              "  'Ether’s daily trading volume jumped to $2.7 billion in 2021.',\n",
              "  'CBD Hemp corporation collaborates with Epazz to distribute its tokens. CryObo to help IEOs manage their crypto assets',\n",
              "  'Kevin Simpson, Founder and Chief Investment Officer at Capital Wealth Planning.',\n",
              "  'Public testnet of OMGX launched today by Enya and OMG Network. Smart contracts, token staking and cross-chain liquidity to be supported',\n",
              "  'Analytics suggest more Ether is being held in DeFi smart contracts.',\n",
              "  'Second-largest crypto is up four-fold in 2021 vs. Bitcoin. Wedbush sees crypto boom playing out for next decade'],\n",
              " 'GME': ['Miller Value Partners sold its position in the stock. Video game retailer has a strong Altman Z-score of 5 out of 10:',\n",
              "  'At-the-market offering, the company sold 3.5 million shares. Shares of the company have gained more than 850% this year',\n",
              "  'Interactive Brokers chief markets strategist.',\n",
              "  'Video game retailer Sherman to leave after just two years on the job. Activist investor Gill also bought up another 50,000 shares',\n",
              "  'Ex-CEO Sherman, Homeister set to receive restricted shares. Video game retailer is redeeming debt due in 2021',\n",
              "  'Video game retailer has lost 5.92% over the past month.',\n",
              "  'Investors should definitely consider GME as it nears its next earnings release.',\n",
              "  'Working with a financial advisor can help you buy GME stock.',\n",
              "  'S&P Global upgraded the video-game retailer’s credit rating to B from B. Shares are up 747% this year, but still in junk territory',\n",
              "  'Video game retailer is looking to extend its streak of beating earnings estimates.'],\n",
              " 'TSLA': ['Complying with standards on its own will save 300 million euros. Tesla has been boosting sales of credits to carmakers',\n",
              "  'Musk said in January he was ‘highly confident’ car would be able to drive itself. Tesla has rolled out a ‘beta’ version of full self-driving technology',\n",
              "  'Tesla is expected to report earnings of $0.89 per share next quarter.',\n",
              "  'Coin accounts for about 0.4% of global energy consumption, Bank of America says.',\n",
              "  'Site plan for ‘Bobcat Project’ seen by Austin Business Journal. Elon Musk has set a goal for Austin Gigafactory to be operational by 2022.',\n",
              "  'Musk is one of the biggest fans of the cryptocurrency. Dogecoin’s market value has soared over the past month',\n",
              "  'Elon Musk says firm is trying to prove of Bitcoin as an alternative. Electric-vehicle maker made $101 million from Bitcoin sale',\n",
              "  'Tesla sold 25,845 vehicles in China in April, down 27% from March. Elon Musk asks his almost 54 million followers whether the company should accept Dogecoin',\n",
              "  'Frank Reig, co-founder and CEO of Revel, joins the panel.',\n",
              "  'Tests suggest steering system was ‘not available’ on road. Two men killed in Texas crash were sitting in driver’s seat']}"
            ]
          },
          "metadata": {
            "tags": []
          },
          "execution_count": 22
        }
      ]
    },
    {
      "cell_type": "code",
      "metadata": {
        "colab": {
          "base_uri": "https://localhost:8080/"
        },
        "id": "TDLwymGg4fSc",
        "outputId": "fa136b50-9bcd-4092-9570-27e9ed2c900c"
      },
      "source": [
        "summaries['ETH']"
      ],
      "execution_count": 23,
      "outputs": [
        {
          "output_type": "execute_result",
          "data": {
            "text/plain": [
              "['Dogecoin plunges as Elon Musk calls it ‘a hustle’ on SNL.',\n",
              " 'Ethereum has gained more than 436% this year. Bitcoin has fallen below $20,000 for the first time since December',\n",
              " 'Musk’s tweet on Sunday failed to lift the coin. Dogecoin has been rallying since the start of the year',\n",
              " 'Scammers claim to have given away nearly $100,000 in crypto. Bitcoin remains in tight trading range between $56,400 and $59,700',\n",
              " 'Ether’s daily trading volume jumped to $2.7 billion in 2021.',\n",
              " 'CBD Hemp corporation collaborates with Epazz to distribute its tokens. CryObo to help IEOs manage their crypto assets',\n",
              " 'Kevin Simpson, Founder and Chief Investment Officer at Capital Wealth Planning.',\n",
              " 'Public testnet of OMGX launched today by Enya and OMG Network. Smart contracts, token staking and cross-chain liquidity to be supported',\n",
              " 'Analytics suggest more Ether is being held in DeFi smart contracts.',\n",
              " 'Second-largest crypto is up four-fold in 2021 vs. Bitcoin. Wedbush sees crypto boom playing out for next decade']"
            ]
          },
          "metadata": {
            "tags": []
          },
          "execution_count": 23
        }
      ]
    },
    {
      "cell_type": "markdown",
      "metadata": {
        "id": "zNsBgQcD64L_"
      },
      "source": [
        "# **5. Adding Sentiment Analysis**"
      ]
    },
    {
      "cell_type": "code",
      "metadata": {
        "colab": {
          "base_uri": "https://localhost:8080/",
          "height": 213,
          "referenced_widgets": [
            "17539b8c6c524d3280b7b5465a3269c1",
            "9950b106215a42a68090937ef747cf9d",
            "d537abf98bfb4bc2ab11358e1da2ca74",
            "c011dcfe9eec4ca2b8e4c3c051fdda85",
            "279336ad51ec48ed94ca6ca256ca7708",
            "4dc797a8fafd4ebfb687eadf5c789ef0",
            "5a12d918689240f59a7e1702aa018920",
            "70c84f43450c4e3bb53dacee82fa9da4",
            "9064ea5b041545a5a6f8b2de5773e97a",
            "12b5598bdf0b4bc69b59f2928f55ecca",
            "9c919998c21d4bfa9e57da6518552c99",
            "7971f7c826594e2490d8510ce9c5838b",
            "b69f5c07274348e7b7be6cce4bc57545",
            "ca92e34247d442dc8ed830bfe0176121",
            "fb459dc6e4bc4796abdfc52f0c52f39d",
            "45f88625c3ae46cb993de4f666b4c76e",
            "42bb74f7711742308860466be34e09a3",
            "a9de33f24226477bae3920da05b5b484",
            "ce35ea74d2df4cda80e9b5b91edb9589",
            "3111f6e8f234458f888a7421f26d98db",
            "9bcabcb987a3416d9e8eaee5ea13a140",
            "b005b9a76988495f9c99249cb14ea311",
            "8c575afc2d97427cbae5edc98455cca2",
            "3d902f0e04bf40cfa2333ab4c8497c91",
            "5461b13a389745c99892641169dcfcbb",
            "0df2779b85a546e0a6fbf0743c98ffa0",
            "2fe6c7f0c4af4bee931ad179ab4bd178",
            "ef74866ad5f14813b7b79708553556b0",
            "82a99008c7e34caeb1f0371e55a63e3a",
            "907bbd27e6fc4695aeec1811bf993a28",
            "524e4170c92c4747b99a3aee8e73aae0",
            "cfb7ee560c544a568db94b14f4989466"
          ]
        },
        "id": "JbwQ9TbS-zvZ",
        "outputId": "b6c255d3-04d2-4664-feba-8374d67582c8"
      },
      "source": [
        "from transformers import pipeline\n",
        "sentiment = pipeline('sentiment-analysis')"
      ],
      "execution_count": 24,
      "outputs": [
        {
          "output_type": "display_data",
          "data": {
            "application/vnd.jupyter.widget-view+json": {
              "model_id": "17539b8c6c524d3280b7b5465a3269c1",
              "version_minor": 0,
              "version_major": 2
            },
            "text/plain": [
              "HBox(children=(FloatProgress(value=0.0, description='Downloading', max=629.0, style=ProgressStyle(description_…"
            ]
          },
          "metadata": {
            "tags": []
          }
        },
        {
          "output_type": "stream",
          "text": [
            "\n"
          ],
          "name": "stdout"
        },
        {
          "output_type": "display_data",
          "data": {
            "application/vnd.jupyter.widget-view+json": {
              "model_id": "9064ea5b041545a5a6f8b2de5773e97a",
              "version_minor": 0,
              "version_major": 2
            },
            "text/plain": [
              "HBox(children=(FloatProgress(value=0.0, description='Downloading', max=267844284.0, style=ProgressStyle(descri…"
            ]
          },
          "metadata": {
            "tags": []
          }
        },
        {
          "output_type": "stream",
          "text": [
            "\n"
          ],
          "name": "stdout"
        },
        {
          "output_type": "display_data",
          "data": {
            "application/vnd.jupyter.widget-view+json": {
              "model_id": "42bb74f7711742308860466be34e09a3",
              "version_minor": 0,
              "version_major": 2
            },
            "text/plain": [
              "HBox(children=(FloatProgress(value=0.0, description='Downloading', max=231508.0, style=ProgressStyle(descripti…"
            ]
          },
          "metadata": {
            "tags": []
          }
        },
        {
          "output_type": "stream",
          "text": [
            "\n"
          ],
          "name": "stdout"
        },
        {
          "output_type": "display_data",
          "data": {
            "application/vnd.jupyter.widget-view+json": {
              "model_id": "5461b13a389745c99892641169dcfcbb",
              "version_minor": 0,
              "version_major": 2
            },
            "text/plain": [
              "HBox(children=(FloatProgress(value=0.0, description='Downloading', max=48.0, style=ProgressStyle(description_w…"
            ]
          },
          "metadata": {
            "tags": []
          }
        },
        {
          "output_type": "stream",
          "text": [
            "\n"
          ],
          "name": "stdout"
        }
      ]
    },
    {
      "cell_type": "code",
      "metadata": {
        "colab": {
          "base_uri": "https://localhost:8080/"
        },
        "id": "kQLIA-QNA5sN",
        "outputId": "7ea3ae3b-39be-4025-d338-48a9c22ec09a"
      },
      "source": [
        "sentiment(summaries['ETH'])"
      ],
      "execution_count": 25,
      "outputs": [
        {
          "output_type": "execute_result",
          "data": {
            "text/plain": [
              "[{'label': 'NEGATIVE', 'score': 0.9818911552429199},\n",
              " {'label': 'NEGATIVE', 'score': 0.9982873797416687},\n",
              " {'label': 'NEGATIVE', 'score': 0.99958735704422},\n",
              " {'label': 'NEGATIVE', 'score': 0.9969335198402405},\n",
              " {'label': 'NEGATIVE', 'score': 0.6294972896575928},\n",
              " {'label': 'NEGATIVE', 'score': 0.9920616149902344},\n",
              " {'label': 'POSITIVE', 'score': 0.9861441850662231},\n",
              " {'label': 'NEGATIVE', 'score': 0.9659869074821472},\n",
              " {'label': 'NEGATIVE', 'score': 0.9885581135749817},\n",
              " {'label': 'POSITIVE', 'score': 0.6359964609146118}]"
            ]
          },
          "metadata": {
            "tags": []
          },
          "execution_count": 25
        }
      ]
    },
    {
      "cell_type": "code",
      "metadata": {
        "colab": {
          "base_uri": "https://localhost:8080/"
        },
        "id": "wjBHiuwbBGEO",
        "outputId": "385829d6-eea4-44ea-eef9-70843325eefa"
      },
      "source": [
        "scores = {ticker:sentiment(summaries[ticker]) for ticker in monitored_tickers}\n",
        "scores"
      ],
      "execution_count": 26,
      "outputs": [
        {
          "output_type": "execute_result",
          "data": {
            "text/plain": [
              "{'BTC': [{'label': 'NEGATIVE', 'score': 0.9869668483734131},\n",
              "  {'label': 'NEGATIVE', 'score': 0.9771203398704529},\n",
              "  {'label': 'NEGATIVE', 'score': 0.9969335198402405},\n",
              "  {'label': 'NEGATIVE', 'score': 0.9512415528297424},\n",
              "  {'label': 'POSITIVE', 'score': 0.9861441850662231},\n",
              "  {'label': 'NEGATIVE', 'score': 0.98663729429245},\n",
              "  {'label': 'NEGATIVE', 'score': 0.9675812125205994},\n",
              "  {'label': 'NEGATIVE', 'score': 0.9996721744537354},\n",
              "  {'label': 'POSITIVE', 'score': 0.6359964609146118},\n",
              "  {'label': 'NEGATIVE', 'score': 0.9988906979560852}],\n",
              " 'ETH': [{'label': 'NEGATIVE', 'score': 0.9818911552429199},\n",
              "  {'label': 'NEGATIVE', 'score': 0.9982873797416687},\n",
              "  {'label': 'NEGATIVE', 'score': 0.99958735704422},\n",
              "  {'label': 'NEGATIVE', 'score': 0.9969335198402405},\n",
              "  {'label': 'NEGATIVE', 'score': 0.6294972896575928},\n",
              "  {'label': 'NEGATIVE', 'score': 0.9920616149902344},\n",
              "  {'label': 'POSITIVE', 'score': 0.9861441850662231},\n",
              "  {'label': 'NEGATIVE', 'score': 0.9659869074821472},\n",
              "  {'label': 'NEGATIVE', 'score': 0.9885581135749817},\n",
              "  {'label': 'POSITIVE', 'score': 0.6359964609146118}],\n",
              " 'GME': [{'label': 'POSITIVE', 'score': 0.9963673949241638},\n",
              "  {'label': 'POSITIVE', 'score': 0.9964799284934998},\n",
              "  {'label': 'POSITIVE', 'score': 0.9792799353599548},\n",
              "  {'label': 'NEGATIVE', 'score': 0.9888198375701904},\n",
              "  {'label': 'NEGATIVE', 'score': 0.9823421835899353},\n",
              "  {'label': 'NEGATIVE', 'score': 0.9996386170387268},\n",
              "  {'label': 'NEGATIVE', 'score': 0.9825690984725952},\n",
              "  {'label': 'NEGATIVE', 'score': 0.7767360210418701},\n",
              "  {'label': 'NEGATIVE', 'score': 0.9996861815452576},\n",
              "  {'label': 'NEGATIVE', 'score': 0.9488515257835388}],\n",
              " 'TSLA': [{'label': 'POSITIVE', 'score': 0.9976227879524231},\n",
              "  {'label': 'POSITIVE', 'score': 0.9354767203330994},\n",
              "  {'label': 'NEGATIVE', 'score': 0.9786754250526428},\n",
              "  {'label': 'NEGATIVE', 'score': 0.9702997803688049},\n",
              "  {'label': 'POSITIVE', 'score': 0.9859940409660339},\n",
              "  {'label': 'POSITIVE', 'score': 0.9994956254959106},\n",
              "  {'label': 'NEGATIVE', 'score': 0.9966917634010315},\n",
              "  {'label': 'NEGATIVE', 'score': 0.9915878176689148},\n",
              "  {'label': 'POSITIVE', 'score': 0.998932957649231},\n",
              "  {'label': 'NEGATIVE', 'score': 0.9993821382522583}]}"
            ]
          },
          "metadata": {
            "tags": []
          },
          "execution_count": 26
        }
      ]
    },
    {
      "cell_type": "code",
      "metadata": {
        "colab": {
          "base_uri": "https://localhost:8080/"
        },
        "id": "WwBEsHsCBKCh",
        "outputId": "7e7609fd-2a99-4093-998c-56c37f97693e"
      },
      "source": [
        "print(summaries['ETH'][3], scores['ETH'][3]['label'], scores['ETH'][3]['score'])"
      ],
      "execution_count": 27,
      "outputs": [
        {
          "output_type": "stream",
          "text": [
            "Scammers claim to have given away nearly $100,000 in crypto. Bitcoin remains in tight trading range between $56,400 and $59,700 NEGATIVE 0.9969335198402405\n"
          ],
          "name": "stdout"
        }
      ]
    },
    {
      "cell_type": "code",
      "metadata": {
        "colab": {
          "base_uri": "https://localhost:8080/"
        },
        "id": "CMivyuj3BRou",
        "outputId": "9dcbfae5-d769-42bd-9be1-739131a4e299"
      },
      "source": [
        "scores['ETH'][0]['score']"
      ],
      "execution_count": 32,
      "outputs": [
        {
          "output_type": "execute_result",
          "data": {
            "text/plain": [
              "0.9818911552429199"
            ]
          },
          "metadata": {
            "tags": []
          },
          "execution_count": 32
        }
      ]
    },
    {
      "cell_type": "markdown",
      "metadata": {
        "id": "nuBCF6UMBbPL"
      },
      "source": [
        "# **6. Exporting Results to CSV**"
      ]
    },
    {
      "cell_type": "code",
      "metadata": {
        "id": "JxccOoJTBgv3"
      },
      "source": [
        "summaries"
      ],
      "execution_count": null,
      "outputs": []
    },
    {
      "cell_type": "code",
      "metadata": {
        "id": "JnWHxbE0BjUJ"
      },
      "source": [
        "scores"
      ],
      "execution_count": null,
      "outputs": []
    },
    {
      "cell_type": "code",
      "metadata": {
        "id": "TuZ6NiwlBly-"
      },
      "source": [
        "cleaned_urls"
      ],
      "execution_count": null,
      "outputs": []
    },
    {
      "cell_type": "code",
      "metadata": {
        "colab": {
          "base_uri": "https://localhost:8080/"
        },
        "id": "-W503k7dBoJB",
        "outputId": "e41da0b4-2f65-408c-c9db-216bd9052925"
      },
      "source": [
        "range(len(summaries['ETH']))"
      ],
      "execution_count": 36,
      "outputs": [
        {
          "output_type": "execute_result",
          "data": {
            "text/plain": [
              "range(0, 10)"
            ]
          },
          "metadata": {
            "tags": []
          },
          "execution_count": 36
        }
      ]
    },
    {
      "cell_type": "code",
      "metadata": {
        "colab": {
          "base_uri": "https://localhost:8080/",
          "height": 35
        },
        "id": "W5x01hISBs_B",
        "outputId": "37d2ee0a-c782-49dd-f103-f75fc7fe41c1"
      },
      "source": [
        "summaries['ETH'][3]"
      ],
      "execution_count": 37,
      "outputs": [
        {
          "output_type": "execute_result",
          "data": {
            "application/vnd.google.colaboratory.intrinsic+json": {
              "type": "string"
            },
            "text/plain": [
              "'Scammers claim to have given away nearly $100,000 in crypto. Bitcoin remains in tight trading range between $56,400 and $59,700'"
            ]
          },
          "metadata": {
            "tags": []
          },
          "execution_count": 37
        }
      ]
    },
    {
      "cell_type": "code",
      "metadata": {
        "id": "UhnxxpPPBzra"
      },
      "source": [
        "def create_output_array(summaries, scores, urls):\n",
        "    output = []\n",
        "    for ticker in monitored_tickers:\n",
        "        for counter in range(len(summaries[ticker])):\n",
        "            output_this = [\n",
        "                ticker,\n",
        "                summaries[ticker][counter],\n",
        "                scores[ticker][counter]['label'],\n",
        "                scores[ticker][counter]['score'],\n",
        "                urls[ticker][counter]\n",
        "            ]\n",
        "            output.append(output_this)\n",
        "    return output"
      ],
      "execution_count": 38,
      "outputs": []
    },
    {
      "cell_type": "code",
      "metadata": {
        "id": "ocRUMY9ZB4Yo"
      },
      "source": [
        "final_output = create_output_array(summaries, scores, cleaned_urls)\n",
        "final_output"
      ],
      "execution_count": null,
      "outputs": []
    },
    {
      "cell_type": "code",
      "metadata": {
        "id": "Fwf4d7e6B6yy"
      },
      "source": [
        "final_output.insert(0, ['Ticker', 'Summary', 'Label', 'Confidence', 'URL'])"
      ],
      "execution_count": 40,
      "outputs": []
    },
    {
      "cell_type": "code",
      "metadata": {
        "id": "HXUIRTucB-ct"
      },
      "source": [
        "final_output"
      ],
      "execution_count": null,
      "outputs": []
    },
    {
      "cell_type": "code",
      "metadata": {
        "id": "4ev4fPf_CBa3"
      },
      "source": [
        "import csv\n",
        "with open('ASSETsummaries.csv', mode='w', newline='') as f:\n",
        "    csv_writer = csv.writer(f, delimiter=',', quotechar='\"', quoting=csv.QUOTE_MINIMAL)\n",
        "    csv_writer.writerows(final_output)"
      ],
      "execution_count": 44,
      "outputs": []
    }
  ]
}